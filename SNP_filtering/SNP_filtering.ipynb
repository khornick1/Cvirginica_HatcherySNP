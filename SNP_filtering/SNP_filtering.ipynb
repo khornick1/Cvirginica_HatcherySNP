{
 "cells": [
  {
   "cell_type": "markdown",
   "metadata": {},
   "source": [
    "# SNP filtering"
   ]
  },
  {
   "cell_type": "markdown",
   "metadata": {},
   "source": [
    "Use Vcftools to filter loci that have a minor allele count of less than 3, a PHED quality score of less than 20, and a call rate of less than 50%"
   ]
  },
  {
   "cell_type": "code",
   "execution_count": 17,
   "metadata": {
    "scrolled": true
   },
   "outputs": [
    {
     "name": "stderr",
     "output_type": "stream",
     "text": [
      "\n",
      "VCFtools - 0.1.16\n",
      "(C) Adam Auton and Anthony Marcketta 2009\n",
      "\n",
      "Parameters as interpreted:\n",
      "\t--vcf TotalRawSNPs.vcf\n",
      "\t--recode-INFO-all\n",
      "\t--mac 3\n",
      "\t--minQ 20\n",
      "\t--max-missing 0.5\n",
      "\t--out cvir.g5mac3\n",
      "\t--recode\n",
      "\n",
      "Warning: Expected at least 2 parts in INFO entry: ID=AF,Number=A,Type=Float,Description=\"Estimated allele frequency in the range (0,1]\">\n",
      "Warning: Expected at least 2 parts in INFO entry: ID=PRO,Number=1,Type=Float,Description=\"Reference allele observation count, with partial observations recorded fractionally\">\n",
      "Warning: Expected at least 2 parts in INFO entry: ID=PAO,Number=A,Type=Float,Description=\"Alternate allele observations, with partial observations recorded fractionally\">\n",
      "Warning: Expected at least 2 parts in INFO entry: ID=SRP,Number=1,Type=Float,Description=\"Strand balance probability for the reference allele: Phred-scaled upper-bounds estimate of the probability of observing the deviation between SRF and SRR given E(SRF/SRR) ~ 0.5, derived using Hoeffding's inequality\">\n",
      "Warning: Expected at least 2 parts in INFO entry: ID=SAP,Number=A,Type=Float,Description=\"Strand balance probability for the alternate allele: Phred-scaled upper-bounds estimate of the probability of observing the deviation between SAF and SAR given E(SAF/SAR) ~ 0.5, derived using Hoeffding's inequality\">\n",
      "Warning: Expected at least 2 parts in INFO entry: ID=AB,Number=A,Type=Float,Description=\"Allele balance at heterozygous sites: a number between 0 and 1 representing the ratio of reads showing the reference allele to all reads, considering only reads from individuals called as heterozygous\">\n",
      "Warning: Expected at least 2 parts in INFO entry: ID=ABP,Number=A,Type=Float,Description=\"Allele balance probability at heterozygous sites: Phred-scaled upper-bounds estimate of the probability of observing the deviation between ABR and ABA given E(ABR/ABA) ~ 0.5, derived using Hoeffding's inequality\">\n",
      "Warning: Expected at least 2 parts in INFO entry: ID=RPP,Number=A,Type=Float,Description=\"Read Placement Probability: Phred-scaled upper-bounds estimate of the probability of observing the deviation between RPL and RPR given E(RPL/RPR) ~ 0.5, derived using Hoeffding's inequality\">\n",
      "Warning: Expected at least 2 parts in INFO entry: ID=RPPR,Number=1,Type=Float,Description=\"Read Placement Probability for reference observations: Phred-scaled upper-bounds estimate of the probability of observing the deviation between RPL and RPR given E(RPL/RPR) ~ 0.5, derived using Hoeffding's inequality\">\n",
      "Warning: Expected at least 2 parts in INFO entry: ID=EPP,Number=A,Type=Float,Description=\"End Placement Probability: Phred-scaled upper-bounds estimate of the probability of observing the deviation between EL and ER given E(EL/ER) ~ 0.5, derived using Hoeffding's inequality\">\n",
      "Warning: Expected at least 2 parts in INFO entry: ID=EPPR,Number=1,Type=Float,Description=\"End Placement Probability for reference observations: Phred-scaled upper-bounds estimate of the probability of observing the deviation between EL and ER given E(EL/ER) ~ 0.5, derived using Hoeffding's inequality\">\n",
      "Warning: Expected at least 2 parts in INFO entry: ID=TYPE,Number=A,Type=String,Description=\"The type of allele, either snp, mnp, ins, del, or complex.\">\n",
      "Warning: Expected at least 2 parts in INFO entry: ID=TYPE,Number=A,Type=String,Description=\"The type of allele, either snp, mnp, ins, del, or complex.\">\n",
      "Warning: Expected at least 2 parts in INFO entry: ID=TYPE,Number=A,Type=String,Description=\"The type of allele, either snp, mnp, ins, del, or complex.\">\n",
      "Warning: Expected at least 2 parts in INFO entry: ID=TYPE,Number=A,Type=String,Description=\"The type of allele, either snp, mnp, ins, del, or complex.\">\n",
      "Warning: Expected at least 2 parts in INFO entry: ID=TYPE,Number=A,Type=String,Description=\"The type of allele, either snp, mnp, ins, del, or complex.\">\n",
      "Warning: Expected at least 2 parts in INFO entry: ID=CIGAR,Number=A,Type=String,Description=\"The extended CIGAR representation of each alternate allele, with the exception that '=' is replaced by 'M' to ease VCF parsing.  Note that INDEL alleles do not have the first matched base (which is provided by default, per the spec) referred to by the CIGAR.\">\n",
      "Warning: Expected at least 2 parts in FORMAT entry: ID=GQ,Number=1,Type=Float,Description=\"Genotype Quality, the Phred-scaled marginal (or unconditional) probability of the called genotype\">\n",
      "Warning: Expected at least 2 parts in FORMAT entry: ID=GL,Number=G,Type=Float,Description=\"Genotype Likelihood, log10-scaled likelihoods of the data given the called genotype for each possible genotype generated from the reference and alternate alleles given the sample ploidy\">\n",
      "After filtering, kept 570 out of 570 Individuals\n",
      "Outputting VCF file...\n",
      "After filtering, kept 549036 out of a possible 4335463 Sites\n",
      "Run Time = 993.00 seconds\n"
     ]
    }
   ],
   "source": [
    "%%bash\n",
    "vcftools --vcf TotalRawSNPs.vcf --max-missing 0.5 --mac 3 --minQ 20 --recode --recode-INFO-all --out cvir.g5mac3"
   ]
  },
  {
   "cell_type": "markdown",
   "metadata": {},
   "source": [
    "To remove individuals that did not sequence well, genotypes with less than 3 reads are recorded as missing"
   ]
  },
  {
   "cell_type": "code",
   "execution_count": 18,
   "metadata": {
    "scrolled": true
   },
   "outputs": [
    {
     "name": "stderr",
     "output_type": "stream",
     "text": [
      "\n",
      "VCFtools - 0.1.16\n",
      "(C) Adam Auton and Anthony Marcketta 2009\n",
      "\n",
      "Parameters as interpreted:\n",
      "\t--vcf cvir.g5mac3.recode.vcf\n",
      "\t--recode-INFO-all\n",
      "\t--minDP 3\n",
      "\t--out cvir.g5mac3dp3\n",
      "\t--recode\n",
      "\n",
      "Warning: Expected at least 2 parts in INFO entry: ID=AF,Number=A,Type=Float,Description=\"Estimated allele frequency in the range (0,1]\">\n",
      "Warning: Expected at least 2 parts in INFO entry: ID=PRO,Number=1,Type=Float,Description=\"Reference allele observation count, with partial observations recorded fractionally\">\n",
      "Warning: Expected at least 2 parts in INFO entry: ID=PAO,Number=A,Type=Float,Description=\"Alternate allele observations, with partial observations recorded fractionally\">\n",
      "Warning: Expected at least 2 parts in INFO entry: ID=SRP,Number=1,Type=Float,Description=\"Strand balance probability for the reference allele: Phred-scaled upper-bounds estimate of the probability of observing the deviation between SRF and SRR given E(SRF/SRR) ~ 0.5, derived using Hoeffding's inequality\">\n",
      "Warning: Expected at least 2 parts in INFO entry: ID=SAP,Number=A,Type=Float,Description=\"Strand balance probability for the alternate allele: Phred-scaled upper-bounds estimate of the probability of observing the deviation between SAF and SAR given E(SAF/SAR) ~ 0.5, derived using Hoeffding's inequality\">\n",
      "Warning: Expected at least 2 parts in INFO entry: ID=AB,Number=A,Type=Float,Description=\"Allele balance at heterozygous sites: a number between 0 and 1 representing the ratio of reads showing the reference allele to all reads, considering only reads from individuals called as heterozygous\">\n",
      "Warning: Expected at least 2 parts in INFO entry: ID=ABP,Number=A,Type=Float,Description=\"Allele balance probability at heterozygous sites: Phred-scaled upper-bounds estimate of the probability of observing the deviation between ABR and ABA given E(ABR/ABA) ~ 0.5, derived using Hoeffding's inequality\">\n",
      "Warning: Expected at least 2 parts in INFO entry: ID=RPP,Number=A,Type=Float,Description=\"Read Placement Probability: Phred-scaled upper-bounds estimate of the probability of observing the deviation between RPL and RPR given E(RPL/RPR) ~ 0.5, derived using Hoeffding's inequality\">\n",
      "Warning: Expected at least 2 parts in INFO entry: ID=RPPR,Number=1,Type=Float,Description=\"Read Placement Probability for reference observations: Phred-scaled upper-bounds estimate of the probability of observing the deviation between RPL and RPR given E(RPL/RPR) ~ 0.5, derived using Hoeffding's inequality\">\n",
      "Warning: Expected at least 2 parts in INFO entry: ID=EPP,Number=A,Type=Float,Description=\"End Placement Probability: Phred-scaled upper-bounds estimate of the probability of observing the deviation between EL and ER given E(EL/ER) ~ 0.5, derived using Hoeffding's inequality\">\n",
      "Warning: Expected at least 2 parts in INFO entry: ID=EPPR,Number=1,Type=Float,Description=\"End Placement Probability for reference observations: Phred-scaled upper-bounds estimate of the probability of observing the deviation between EL and ER given E(EL/ER) ~ 0.5, derived using Hoeffding's inequality\">\n",
      "Warning: Expected at least 2 parts in INFO entry: ID=TYPE,Number=A,Type=String,Description=\"The type of allele, either snp, mnp, ins, del, or complex.\">\n",
      "Warning: Expected at least 2 parts in INFO entry: ID=TYPE,Number=A,Type=String,Description=\"The type of allele, either snp, mnp, ins, del, or complex.\">\n",
      "Warning: Expected at least 2 parts in INFO entry: ID=TYPE,Number=A,Type=String,Description=\"The type of allele, either snp, mnp, ins, del, or complex.\">\n",
      "Warning: Expected at least 2 parts in INFO entry: ID=TYPE,Number=A,Type=String,Description=\"The type of allele, either snp, mnp, ins, del, or complex.\">\n",
      "Warning: Expected at least 2 parts in INFO entry: ID=TYPE,Number=A,Type=String,Description=\"The type of allele, either snp, mnp, ins, del, or complex.\">\n",
      "Warning: Expected at least 2 parts in INFO entry: ID=CIGAR,Number=A,Type=String,Description=\"The extended CIGAR representation of each alternate allele, with the exception that '=' is replaced by 'M' to ease VCF parsing.  Note that INDEL alleles do not have the first matched base (which is provided by default, per the spec) referred to by the CIGAR.\">\n",
      "Warning: Expected at least 2 parts in FORMAT entry: ID=GQ,Number=1,Type=Float,Description=\"Genotype Quality, the Phred-scaled marginal (or unconditional) probability of the called genotype\">\n",
      "Warning: Expected at least 2 parts in FORMAT entry: ID=GL,Number=G,Type=Float,Description=\"Genotype Likelihood, log10-scaled likelihoods of the data given the called genotype for each possible genotype generated from the reference and alternate alleles given the sample ploidy\">\n",
      "After filtering, kept 570 out of 570 Individuals\n",
      "Outputting VCF file...\n",
      "After filtering, kept 549036 out of a possible 549036 Sites\n",
      "Run Time = 796.00 seconds\n"
     ]
    }
   ],
   "source": [
    "%%bash \n",
    "vcftools --vcf cvir.g5mac3.recode.vcf --minDP 3 --recode --recode-INFO-all --out cvir.g5mac3dp3 "
   ]
  },
  {
   "cell_type": "markdown",
   "metadata": {},
   "source": [
    "Remove individuals that did not sequence well"
   ]
  },
  {
   "cell_type": "code",
   "execution_count": 19,
   "metadata": {},
   "outputs": [
    {
     "name": "stdout",
     "output_type": "stream",
     "text": [
      "\f",
      "                                                                                                                        \n",
      "                                          Histogram of % missing data per individual                                    \n",
      "     Number of Occurrences                                                                                              \n",
      "       30 +-+--------+---------+----------+---------+----------+----------+---------+----------+---------+--------+-+   \n",
      "          +          +         +          **     ** +          +          +         +          +         +          +   \n",
      "          |                               ***  ****           'totalmissing' using (bin($1,binwidth)):(1.0) ******* |   \n",
      "          |                               ********* **                                                              |   \n",
      "       25 +-+                             ********* **                                                            +-+   \n",
      "          |                              *************                                                              |   \n",
      "          |                              *************                                                              |   \n",
      "          |                              *************                                                              |   \n",
      "       20 +-+                          ***************                                                            +-+   \n",
      "          |                            ***************                                                              |   \n",
      "          |                            *****************                                                            |   \n",
      "       15 +-+                          *************** *                                                          +-+   \n",
      "          |                            *************** ****                                                         |   \n",
      "          |                            *************** ****                                                         |   \n",
      "          |                            *************** ****                                                         |   \n",
      "       10 +-+                    ********************* *****                                                      +-+   \n",
      "          |                      *** ***************** ******                                                       |   \n",
      "          |                    ***** ***************** ******                                                       |   \n",
      "          |          **    **  ***** ***************** ******                                                       |   \n",
      "        5 +-+        **    ********* ***************** ***********                                                +-+   \n",
      "          |          *************** ***************** ***********   **                                             |   \n",
      "          |       ****************** ***************** *********************                               ***      |   \n",
      "          +     *** **************** ***************** *******************************************************      +   \n",
      "        0 +-+---**********************************************************************************************----+-+   \n",
      "          0         0.1       0.2        0.3       0.4        0.5        0.6       0.7        0.8       0.9         1   \n",
      "                                                       % of missing data                                                \n",
      "                                                                                                                        \n",
      "The 85% cutoff would be 0.441853\n",
      "Would you like to set a different cutoff, yes or no\n"
     ]
    },
    {
     "name": "stderr",
     "output_type": "stream",
     "text": [
      "\n",
      "VCFtools - 0.1.16\n",
      "(C) Adam Auton and Anthony Marcketta 2009\n",
      "\n",
      "Parameters as interpreted:\n",
      "\t--vcf cvir.g5mac3dp3.recode.vcf\n",
      "\t--missing-indv\n",
      "\t--out cvir.g5mac3dp3.miss\n",
      "\n",
      "Warning: Expected at least 2 parts in INFO entry: ID=AF,Number=A,Type=Float,Description=\"Estimated allele frequency in the range (0,1]\">\n",
      "Warning: Expected at least 2 parts in INFO entry: ID=PRO,Number=1,Type=Float,Description=\"Reference allele observation count, with partial observations recorded fractionally\">\n",
      "Warning: Expected at least 2 parts in INFO entry: ID=PAO,Number=A,Type=Float,Description=\"Alternate allele observations, with partial observations recorded fractionally\">\n",
      "Warning: Expected at least 2 parts in INFO entry: ID=SRP,Number=1,Type=Float,Description=\"Strand balance probability for the reference allele: Phred-scaled upper-bounds estimate of the probability of observing the deviation between SRF and SRR given E(SRF/SRR) ~ 0.5, derived using Hoeffding's inequality\">\n",
      "Warning: Expected at least 2 parts in INFO entry: ID=SAP,Number=A,Type=Float,Description=\"Strand balance probability for the alternate allele: Phred-scaled upper-bounds estimate of the probability of observing the deviation between SAF and SAR given E(SAF/SAR) ~ 0.5, derived using Hoeffding's inequality\">\n",
      "Warning: Expected at least 2 parts in INFO entry: ID=AB,Number=A,Type=Float,Description=\"Allele balance at heterozygous sites: a number between 0 and 1 representing the ratio of reads showing the reference allele to all reads, considering only reads from individuals called as heterozygous\">\n",
      "Warning: Expected at least 2 parts in INFO entry: ID=ABP,Number=A,Type=Float,Description=\"Allele balance probability at heterozygous sites: Phred-scaled upper-bounds estimate of the probability of observing the deviation between ABR and ABA given E(ABR/ABA) ~ 0.5, derived using Hoeffding's inequality\">\n",
      "Warning: Expected at least 2 parts in INFO entry: ID=RPP,Number=A,Type=Float,Description=\"Read Placement Probability: Phred-scaled upper-bounds estimate of the probability of observing the deviation between RPL and RPR given E(RPL/RPR) ~ 0.5, derived using Hoeffding's inequality\">\n",
      "Warning: Expected at least 2 parts in INFO entry: ID=RPPR,Number=1,Type=Float,Description=\"Read Placement Probability for reference observations: Phred-scaled upper-bounds estimate of the probability of observing the deviation between RPL and RPR given E(RPL/RPR) ~ 0.5, derived using Hoeffding's inequality\">\n",
      "Warning: Expected at least 2 parts in INFO entry: ID=EPP,Number=A,Type=Float,Description=\"End Placement Probability: Phred-scaled upper-bounds estimate of the probability of observing the deviation between EL and ER given E(EL/ER) ~ 0.5, derived using Hoeffding's inequality\">\n",
      "Warning: Expected at least 2 parts in INFO entry: ID=EPPR,Number=1,Type=Float,Description=\"End Placement Probability for reference observations: Phred-scaled upper-bounds estimate of the probability of observing the deviation between EL and ER given E(EL/ER) ~ 0.5, derived using Hoeffding's inequality\">\n",
      "Warning: Expected at least 2 parts in INFO entry: ID=TYPE,Number=A,Type=String,Description=\"The type of allele, either snp, mnp, ins, del, or complex.\">\n",
      "Warning: Expected at least 2 parts in INFO entry: ID=TYPE,Number=A,Type=String,Description=\"The type of allele, either snp, mnp, ins, del, or complex.\">\n",
      "Warning: Expected at least 2 parts in INFO entry: ID=TYPE,Number=A,Type=String,Description=\"The type of allele, either snp, mnp, ins, del, or complex.\">\n",
      "Warning: Expected at least 2 parts in INFO entry: ID=TYPE,Number=A,Type=String,Description=\"The type of allele, either snp, mnp, ins, del, or complex.\">\n",
      "Warning: Expected at least 2 parts in INFO entry: ID=TYPE,Number=A,Type=String,Description=\"The type of allele, either snp, mnp, ins, del, or complex.\">\n",
      "Warning: Expected at least 2 parts in INFO entry: ID=CIGAR,Number=A,Type=String,Description=\"The extended CIGAR representation of each alternate allele, with the exception that '=' is replaced by 'M' to ease VCF parsing.  Note that INDEL alleles do not have the first matched base (which is provided by default, per the spec) referred to by the CIGAR.\">\n",
      "Warning: Expected at least 2 parts in FORMAT entry: ID=GQ,Number=1,Type=Float,Description=\"Genotype Quality, the Phred-scaled marginal (or unconditional) probability of the called genotype\">\n",
      "Warning: Expected at least 2 parts in FORMAT entry: ID=GL,Number=G,Type=Float,Description=\"Genotype Likelihood, log10-scaled likelihoods of the data given the called genotype for each possible genotype generated from the reference and alternate alleles given the sample ploidy\">\n",
      "After filtering, kept 570 out of 570 Individuals\n",
      "Outputting Individual Missingness\n",
      "After filtering, kept 549036 out of a possible 549036 Sites\n",
      "Run Time = 38.00 seconds\n",
      "\n",
      "VCFtools - 0.1.16\n",
      "(C) Adam Auton and Anthony Marcketta 2009\n",
      "\n",
      "Parameters as interpreted:\n",
      "\t--vcf cvir.g5mac3dp3.recode.vcf\n",
      "\t--remove lowDP.indv\n",
      "\t--recode-INFO-all\n",
      "\t--out cvir.g5mac3dp3.miss\n",
      "\t--recode\n",
      "\n",
      "Warning: Expected at least 2 parts in INFO entry: ID=AF,Number=A,Type=Float,Description=\"Estimated allele frequency in the range (0,1]\">\n",
      "Warning: Expected at least 2 parts in INFO entry: ID=PRO,Number=1,Type=Float,Description=\"Reference allele observation count, with partial observations recorded fractionally\">\n",
      "Warning: Expected at least 2 parts in INFO entry: ID=PAO,Number=A,Type=Float,Description=\"Alternate allele observations, with partial observations recorded fractionally\">\n",
      "Warning: Expected at least 2 parts in INFO entry: ID=SRP,Number=1,Type=Float,Description=\"Strand balance probability for the reference allele: Phred-scaled upper-bounds estimate of the probability of observing the deviation between SRF and SRR given E(SRF/SRR) ~ 0.5, derived using Hoeffding's inequality\">\n",
      "Warning: Expected at least 2 parts in INFO entry: ID=SAP,Number=A,Type=Float,Description=\"Strand balance probability for the alternate allele: Phred-scaled upper-bounds estimate of the probability of observing the deviation between SAF and SAR given E(SAF/SAR) ~ 0.5, derived using Hoeffding's inequality\">\n",
      "Warning: Expected at least 2 parts in INFO entry: ID=AB,Number=A,Type=Float,Description=\"Allele balance at heterozygous sites: a number between 0 and 1 representing the ratio of reads showing the reference allele to all reads, considering only reads from individuals called as heterozygous\">\n",
      "Warning: Expected at least 2 parts in INFO entry: ID=ABP,Number=A,Type=Float,Description=\"Allele balance probability at heterozygous sites: Phred-scaled upper-bounds estimate of the probability of observing the deviation between ABR and ABA given E(ABR/ABA) ~ 0.5, derived using Hoeffding's inequality\">\n",
      "Warning: Expected at least 2 parts in INFO entry: ID=RPP,Number=A,Type=Float,Description=\"Read Placement Probability: Phred-scaled upper-bounds estimate of the probability of observing the deviation between RPL and RPR given E(RPL/RPR) ~ 0.5, derived using Hoeffding's inequality\">\n",
      "Warning: Expected at least 2 parts in INFO entry: ID=RPPR,Number=1,Type=Float,Description=\"Read Placement Probability for reference observations: Phred-scaled upper-bounds estimate of the probability of observing the deviation between RPL and RPR given E(RPL/RPR) ~ 0.5, derived using Hoeffding's inequality\">\n",
      "Warning: Expected at least 2 parts in INFO entry: ID=EPP,Number=A,Type=Float,Description=\"End Placement Probability: Phred-scaled upper-bounds estimate of the probability of observing the deviation between EL and ER given E(EL/ER) ~ 0.5, derived using Hoeffding's inequality\">\n",
      "Warning: Expected at least 2 parts in INFO entry: ID=EPPR,Number=1,Type=Float,Description=\"End Placement Probability for reference observations: Phred-scaled upper-bounds estimate of the probability of observing the deviation between EL and ER given E(EL/ER) ~ 0.5, derived using Hoeffding's inequality\">\n",
      "Warning: Expected at least 2 parts in INFO entry: ID=TYPE,Number=A,Type=String,Description=\"The type of allele, either snp, mnp, ins, del, or complex.\">\n",
      "Warning: Expected at least 2 parts in INFO entry: ID=TYPE,Number=A,Type=String,Description=\"The type of allele, either snp, mnp, ins, del, or complex.\">\n",
      "Warning: Expected at least 2 parts in INFO entry: ID=TYPE,Number=A,Type=String,Description=\"The type of allele, either snp, mnp, ins, del, or complex.\">\n",
      "Warning: Expected at least 2 parts in INFO entry: ID=TYPE,Number=A,Type=String,Description=\"The type of allele, either snp, mnp, ins, del, or complex.\">\n",
      "Warning: Expected at least 2 parts in INFO entry: ID=TYPE,Number=A,Type=String,Description=\"The type of allele, either snp, mnp, ins, del, or complex.\">\n",
      "Warning: Expected at least 2 parts in INFO entry: ID=CIGAR,Number=A,Type=String,Description=\"The extended CIGAR representation of each alternate allele, with the exception that '=' is replaced by 'M' to ease VCF parsing.  Note that INDEL alleles do not have the first matched base (which is provided by default, per the spec) referred to by the CIGAR.\">\n",
      "Warning: Expected at least 2 parts in FORMAT entry: ID=GQ,Number=1,Type=Float,Description=\"Genotype Quality, the Phred-scaled marginal (or unconditional) probability of the called genotype\">\n",
      "Warning: Expected at least 2 parts in FORMAT entry: ID=GL,Number=G,Type=Float,Description=\"Genotype Likelihood, log10-scaled likelihoods of the data given the called genotype for each possible genotype generated from the reference and alternate alleles given the sample ploidy\">\n",
      "Excluding individuals in 'exclude' list\n",
      "After filtering, kept 491 out of 570 Individuals\n",
      "Outputting VCF file...\n",
      "After filtering, kept 549036 out of a possible 549036 Sites\n",
      "Run Time = 698.00 seconds\n"
     ]
    }
   ],
   "source": [
    "%%bash\n",
    "./filter_missing_ind.sh cvir.g5mac3dp3.recode.vcf cvir.g5mac3dp3.miss"
   ]
  },
